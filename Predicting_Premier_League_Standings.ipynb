{
  "nbformat": 4,
  "nbformat_minor": 0,
  "metadata": {
    "colab": {
      "name": "Predicting Premier League Standings",
      "provenance": [],
      "authorship_tag": "ABX9TyNENu/XZBe1q6/43V0bQYsP",
      "include_colab_link": true
    },
    "kernelspec": {
      "name": "python3",
      "display_name": "Python 3"
    }
  },
  "cells": [
    {
      "cell_type": "markdown",
      "metadata": {
        "id": "view-in-github",
        "colab_type": "text"
      },
      "source": [
        "<a href=\"https://colab.research.google.com/github/AkothCarole/PremierLeaguePredictions/blob/master/Predicting_Premier_League_Standings.ipynb\" target=\"_parent\"><img src=\"https://colab.research.google.com/assets/colab-badge.svg\" alt=\"Open In Colab\"/></a>"
      ]
    },
    {
      "cell_type": "code",
      "metadata": {
        "id": "MM5dGoF7vk-U",
        "colab_type": "code",
        "colab": {}
      },
      "source": [
        "# Import libraries\n",
        "import pandas as pd\n",
        "import numpy as np\n",
        "from scipy.stats import poisson"
      ],
      "execution_count": 0,
      "outputs": []
    },
    {
      "cell_type": "code",
      "metadata": {
        "id": "kyO70-Dzvyuu",
        "colab_type": "code",
        "colab": {}
      },
      "source": [
        "#Get data from Football data.co.uk\n",
        "\n",
        "dfList = []\n",
        "for i in range(5, 19):\n",
        "    df = pd.read_csv(\"http://www.football-data.co.uk/mmz4281/{0:02d}{1:02d}/E0.csv\".format(i,i+1))\n",
        "    df = df[['HomeTeam','AwayTeam','FTHG','FTAG']]\n",
        "    df = df.rename(columns={'FTHG': 'HomeGoals', 'FTAG': 'AwayGoals'})\n",
        "    dfList.append(df)\n",
        "\n",
        "    eplData = dfList[0].append(dfList[1:])"
      ],
      "execution_count": 0,
      "outputs": []
    },
    {
      "cell_type": "code",
      "metadata": {
        "id": "HZLsfIWuw403",
        "colab_type": "code",
        "colab": {}
      },
      "source": [
        "# Fetch current standings\n",
        "eplPointsTable = pd.read_excel('PointsTable.xlsx')[['Team', 'Points']]\n",
        "eplPointsTable.index = np.arange(1, len(eplPointsTable) + 1)\n",
        "\n",
        "# Fetch upcoming match fixures\n",
        "eplMatchesLeft = pd.read_excel('MatchesLeft.xlsx')"
      ],
      "execution_count": 0,
      "outputs": []
    },
    {
      "cell_type": "code",
      "metadata": {
        "id": "hdXzTJYZxHLb",
        "colab_type": "code",
        "colab": {
          "base_uri": "https://localhost:8080/",
          "height": 195
        },
        "outputId": "c8867a53-ba97-47ad-9887-6adc7fc7235f"
      },
      "source": [
        "'PAST MATCH DATA: {} rows'.format(len(eplData))\n",
        "eplData.head()\n",
        "'CURRENT POINTS TABLE'\n",
        "eplPointsTable\n",
        "'UPCOMING MATCH FIXTURES: {} rows'.format(len(eplMatchesLeft))\n",
        "eplMatchesLeft.head()"
      ],
      "execution_count": 7,
      "outputs": [
        {
          "output_type": "execute_result",
          "data": {
            "text/html": [
              "<div>\n",
              "<style scoped>\n",
              "    .dataframe tbody tr th:only-of-type {\n",
              "        vertical-align: middle;\n",
              "    }\n",
              "\n",
              "    .dataframe tbody tr th {\n",
              "        vertical-align: top;\n",
              "    }\n",
              "\n",
              "    .dataframe thead th {\n",
              "        text-align: right;\n",
              "    }\n",
              "</style>\n",
              "<table border=\"1\" class=\"dataframe\">\n",
              "  <thead>\n",
              "    <tr style=\"text-align: right;\">\n",
              "      <th></th>\n",
              "      <th>HomeTeam</th>\n",
              "      <th>AwayTeam</th>\n",
              "    </tr>\n",
              "  </thead>\n",
              "  <tbody>\n",
              "    <tr>\n",
              "      <th>0</th>\n",
              "      <td>Arsenal</td>\n",
              "      <td>Cardiff</td>\n",
              "    </tr>\n",
              "    <tr>\n",
              "      <th>1</th>\n",
              "      <td>Bournemouth</td>\n",
              "      <td>Chelsea</td>\n",
              "    </tr>\n",
              "    <tr>\n",
              "      <th>2</th>\n",
              "      <td>Fulham</td>\n",
              "      <td>Brighton</td>\n",
              "    </tr>\n",
              "    <tr>\n",
              "      <th>3</th>\n",
              "      <td>Huddersfield</td>\n",
              "      <td>Everton</td>\n",
              "    </tr>\n",
              "    <tr>\n",
              "      <th>4</th>\n",
              "      <td>Wolves</td>\n",
              "      <td>West Ham</td>\n",
              "    </tr>\n",
              "  </tbody>\n",
              "</table>\n",
              "</div>"
            ],
            "text/plain": [
              "       HomeTeam  AwayTeam\n",
              "0       Arsenal   Cardiff\n",
              "1   Bournemouth   Chelsea\n",
              "2        Fulham  Brighton\n",
              "3  Huddersfield   Everton\n",
              "4        Wolves  West Ham"
            ]
          },
          "metadata": {
            "tags": []
          },
          "execution_count": 7
        }
      ]
    },
    {
      "cell_type": "code",
      "metadata": {
        "id": "7e3DvzN_yNL0",
        "colab_type": "code",
        "colab": {
          "base_uri": "https://localhost:8080/",
          "height": 128
        },
        "outputId": "da230bab-08b9-4dd8-b2a8-007d7eed1cf6"
      },
      "source": [
        "]:\n",
        "# Calculate Team and League stats\n",
        "\n",
        "# For each team - Average {HomeScored, HomeConceded, AwayScored, AwayConceded} \n",
        "eplHomeTeam = eplData[['HomeTeam', 'HomeGoals', 'AwayGoals']].rename(\n",
        "    columns={'HomeTeam':'Team', 'HomeGoals':'HomeScored', 'AwayGoals':'HomeConceded'}).groupby(\n",
        "    ['Team'], as_index=False)[['HomeScored', 'HomeConceded']].mean()\n",
        "\n",
        "eplAwayTeam = eplData[['AwayTeam', 'HomeGoals', 'AwayGoals']].rename(\n",
        "    columns={'AwayTeam':'Team', 'HomeGoals':'AwayConceded', 'AwayGoals':'AwayScored'}).groupby(\n",
        "    ['Team'], as_index=False)[['AwayScored', 'AwayConceded']].mean()\n",
        "\n",
        "# Overall - Average {leagueHomeScored, leagueHomeConceded, leagueAwayScored, leagueAwayConceded}\n",
        "leagueHomeScored, leagueHomeConceded = eplHomeTeam['HomeScored'].mean(), eplHomeTeam['HomeConceded'].mean()\n",
        "leagueAwayScored, leagueAwayConceded = eplAwayTeam['AwayScored'].mean(), eplAwayTeam['AwayConceded'].mean()\n",
        "\n",
        "eplTeamStrength = pd.merge(eplHomeTeam, eplAwayTeam, on='Team')\n",
        "\n",
        "assert(leagueHomeScored != 0)\n",
        "assert(leagueHomeConceded != 0)\n",
        "assert(leagueAwayScored != 0)\n",
        "assert(leagueAwayConceded != 0)\n",
        "\n",
        "# Normalize the parameters \n",
        "# For each team - {HomeAttack, HomeDefence, AwayAttack, AwayDefense}\n",
        "eplTeamStrength['HomeScored'] /= leagueHomeScored\n",
        "eplTeamStrength['HomeConceded'] /= leagueHomeConceded\n",
        "eplTeamStrength['AwayScored'] /= leagueAwayScored\n",
        "eplTeamStrength['AwayConceded'] /= leagueAwayConceded\n",
        "\n",
        "eplTeamStrength.columns=['Team','HomeAttack','HomeDefense','AwayAttack','AwayDefense']\n",
        "eplTeamStrength.set_index('Team', inplace=True)\n",
        "\n",
        "# Overall - {overallHomeScored, overallAwayScored}\n",
        "overallHomeScored = (leagueHomeScored+leagueAwayConceded)/2\n",
        "overallAwayScored = (leagueHomeConceded+leagueAwayScored)/2"
      ],
      "execution_count": 9,
      "outputs": [
        {
          "output_type": "error",
          "ename": "SyntaxError",
          "evalue": "ignored",
          "traceback": [
            "\u001b[0;36m  File \u001b[0;32m\"<ipython-input-9-e76e68525101>\"\u001b[0;36m, line \u001b[0;32m1\u001b[0m\n\u001b[0;31m    ]:\u001b[0m\n\u001b[0m    ^\u001b[0m\n\u001b[0;31mSyntaxError\u001b[0m\u001b[0;31m:\u001b[0m invalid syntax\n"
          ]
        }
      ]
    },
    {
      "cell_type": "code",
      "metadata": {
        "id": "gkj3hmfZyP5y",
        "colab_type": "code",
        "colab": {}
      },
      "source": [
        "'TEAM STRENGTH: {} rows'.format(len(eplTeamStrength))\n",
        "eplTeamStrength.head()\n",
        "'Overall Home scored = {}'.format(overallHomeScored)\n",
        "'Overall Away scored = {}'.format(overallAwayScored)\n"
      ],
      "execution_count": 0,
      "outputs": []
    },
    {
      "cell_type": "code",
      "metadata": {
        "id": "LuLbyuVayhmY",
        "colab_type": "code",
        "colab": {}
      },
      "source": [
        "# Predict outcome of match and assign points to the teams\n",
        "\n",
        "def predictMatchScore(home, away):\n",
        "    if home in eplTeamStrength.index and away in eplTeamStrength.index:\n",
        "        lambdH = eplTeamStrength.at[home,'HomeAttack'] * eplTeamStrength.at[away,'AwayDefense'] * overallHomeScored\n",
        "        lambdA = eplTeamStrength.at[away,'AwayAttack'] * eplTeamStrength.at[home,'HomeDefense'] * overallAwayScored\n",
        "        probH, probA, probT = 0, 0, 0  # Probability of Home win(H), Away win(A) or Tie(T) \n",
        "        for X in range(0,11):\n",
        "            for Y in range(0, 11):\n",
        "                p = poisson.pmf(X, lambdH) * poisson.pmf(Y, lambdA)\n",
        "                if X == Y:\n",
        "                    probT += p\n",
        "                elif X > Y:\n",
        "                    probH += p\n",
        "                else:\n",
        "                    probA += p\n",
        "        scoreH = 3 * probH + probT\n",
        "        scoreA = 3 * probA + probT\n",
        "        return (scoreH, scoreA)\n",
        "    else:\n",
        "        return (0, 0)"
      ],
      "execution_count": 0,
      "outputs": []
    },
    {
      "cell_type": "code",
      "metadata": {
        "id": "PSIGu2ONykcN",
        "colab_type": "code",
        "colab": {}
      },
      "source": [
        "#  Simulate the matches to predict final standings\n",
        "for index, row in eplMatchesLeft.iterrows():\n",
        "    home, away = row['HomeTeam'], row['AwayTeam']\n",
        "    assert(home in eplPointsTable.Team.values and away in eplPointsTable.Team.values)\n",
        "    sH, sA = predictMatchScore(home, away)\n",
        "    eplPointsTable.loc[eplPointsTable.Team == home, 'Points'] += sH\n",
        "    eplPointsTable.loc[eplPointsTable.Team == away, 'Points'] += sA"
      ],
      "execution_count": 0,
      "outputs": []
    },
    {
      "cell_type": "code",
      "metadata": {
        "id": "_o-bsdvvyofo",
        "colab_type": "code",
        "colab": {}
      },
      "source": [
        "'PREDICTED FINAL STANDINGS'\n",
        "eplPointsTable = eplPointsTable.sort_values('Points', ascending=False)\n",
        "eplPointsTable.index = np.arange(1, len(eplPointsTable)+1) \n",
        "eplPointsTable.round(2)"
      ],
      "execution_count": 0,
      "outputs": []
    }
  ]
}